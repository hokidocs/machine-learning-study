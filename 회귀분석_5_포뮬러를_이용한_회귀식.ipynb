{
  "nbformat": 4,
  "nbformat_minor": 0,
  "metadata": {
    "colab": {
      "provenance": [],
      "authorship_tag": "ABX9TyMHyi55v9d3aLa/heYTptT+"
    },
    "kernelspec": {
      "name": "python3",
      "display_name": "Python 3"
    },
    "language_info": {
      "name": "python"
    }
  },
  "cells": [
    {
      "cell_type": "markdown",
      "source": [
        "# 5. 포뮬러를 이용한 회귀식\n",
        "* 선형회귀식을 구하기 위해 formula(포뮬러) 구문을 사용하여 통계 모형의 형식을 지정\n",
        "* ols( ) 함수 또는 OLS클래스의 from_formula( )를 사용하면 포뮬러를 이용하여 다항 회귀식을 구할 수 있다."
      ],
      "metadata": {
        "id": "gUJD2_Rd7nRM"
      }
    },
    {
      "cell_type": "code",
      "source": [
        "X = [32, 64, 96, 118, 126, 144, 152, 158]\n",
        "Y = [17, 24, 62, 49, 52, 105, 130, 125]"
      ],
      "metadata": {
        "id": "Bjamjvkh79yu"
      },
      "execution_count": null,
      "outputs": []
    },
    {
      "cell_type": "code",
      "source": [
        "import numpy as np\n",
        "import pandas as pd\n",
        "df = pd.DataFrame(np.c_[X, Y], columns=[\"x\", \"y\"])"
      ],
      "metadata": {
        "id": "mZJJo97m-q8B"
      },
      "execution_count": null,
      "outputs": []
    },
    {
      "cell_type": "markdown",
      "source": [
        "➡️ 포뮬러를 이용하여 선형 회귀식을 구한다."
      ],
      "metadata": {
        "id": "xlvtwMZ1AW_w"
      }
    },
    {
      "cell_type": "code",
      "source": [
        "from statsmodels.formula.api import ols\n",
        "model = ols(\"y ~ x\", data=df)\n",
        "result = model.fit()\n",
        "result.params"
      ],
      "metadata": {
        "colab": {
          "base_uri": "https://localhost:8080/"
        },
        "id": "AdxaOcST-19v",
        "outputId": "7e02420d-c923-429f-e0e7-32c1f951ac2e"
      },
      "execution_count": null,
      "outputs": [
        {
          "output_type": "execute_result",
          "data": {
            "text/plain": [
              "Intercept   -27.358463\n",
              "x             0.879627\n",
              "dtype: float64"
            ]
          },
          "metadata": {},
          "execution_count": 10
        }
      ]
    },
    {
      "cell_type": "markdown",
      "source": [
        "➡️ OLS.from_formula( )를 이용해서 구할 수도 있다."
      ],
      "metadata": {
        "id": "VqyFbQztAPmx"
      }
    },
    {
      "cell_type": "code",
      "source": [
        "import statsmodels.api as sm\n",
        "model = sm.OLS.from_formula(\"y ~ x\", data=df)\n",
        "result = model.fit()\n",
        "result.params"
      ],
      "metadata": {
        "colab": {
          "base_uri": "https://localhost:8080/"
        },
        "id": "LbTd4TUz_H1Z",
        "outputId": "a180552f-75bb-46e5-e7ca-0041806d0561"
      },
      "execution_count": null,
      "outputs": [
        {
          "output_type": "execute_result",
          "data": {
            "text/plain": [
              "Intercept   -27.358463\n",
              "x             0.879627\n",
              "dtype: float64"
            ]
          },
          "metadata": {},
          "execution_count": 11
        }
      ]
    },
    {
      "cell_type": "markdown",
      "source": [
        "➡️ 상수항을 포함하지 않는 3차 방정식으로 선형회귀식을 구한다."
      ],
      "metadata": {
        "id": "04tnudP8AKBq"
      }
    },
    {
      "cell_type": "code",
      "source": [
        "model2 = ols(\"y ~ x + I(x**2) + I(x**3) -1\", data=df)\n",
        "result2 = model2.fit()\n",
        "result2.params"
      ],
      "metadata": {
        "colab": {
          "base_uri": "https://localhost:8080/"
        },
        "id": "_MQr4TGs_VrZ",
        "outputId": "658a95db-c0f5-4a8b-df97-f33208787090"
      },
      "execution_count": null,
      "outputs": [
        {
          "output_type": "execute_result",
          "data": {
            "text/plain": [
              "x            1.005637\n",
              "I(x ** 2)   -0.013981\n",
              "I(x ** 3)    0.000082\n",
              "dtype: float64"
            ]
          },
          "metadata": {},
          "execution_count": 12
        }
      ]
    },
    {
      "cell_type": "markdown",
      "source": [
        "➡️ 모형을 이용해서 y를 예측하고 그래프에 표현한다."
      ],
      "metadata": {
        "id": "nlxa5t-O_8pi"
      }
    },
    {
      "cell_type": "code",
      "source": [
        "y_ = result2.predict(df.x)"
      ],
      "metadata": {
        "id": "SsTI_7r9_V3L"
      },
      "execution_count": null,
      "outputs": []
    },
    {
      "cell_type": "code",
      "source": [
        "import matplotlib.pyplot as plt\n",
        "plt.scatter(X, Y)\n",
        "plt.plot(X, y_)\n",
        "plt.show()"
      ],
      "metadata": {
        "colab": {
          "base_uri": "https://localhost:8080/",
          "height": 430
        },
        "id": "aA4R_4SD_zg3",
        "outputId": "b152bbd2-1106-443f-b4f7-c39c11995769"
      },
      "execution_count": null,
      "outputs": [
        {
          "output_type": "display_data",
          "data": {
            "text/plain": [
              "<Figure size 640x480 with 1 Axes>"
            ],
            "image/png": "[encoded data removed]"
          },
          "metadata": {}
        }
      ]
    }
  ]
}